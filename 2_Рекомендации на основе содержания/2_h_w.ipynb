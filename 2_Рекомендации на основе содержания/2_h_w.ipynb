{
 "cells": [
  {
   "cell_type": "code",
   "execution_count": 1,
   "metadata": {},
   "outputs": [],
   "source": [
    "import pandas as pd\n",
    "\n",
    "movies = pd.read_csv('ml-latest-small/movies.csv')\n",
    "ratings = pd.read_csv('ml-latest-small/ratings.csv')\n",
    "tags = pd.read_csv('ml-latest-small/tags.csv', encoding='latin1')  # если есть проблемы с кодировкой"
   ]
  },
  {
   "cell_type": "code",
   "execution_count": 2,
   "metadata": {},
   "outputs": [],
   "source": [
    "from sklearn.feature_extraction.text import TfidfVectorizer\n",
    "\n",
    "# Преобразуем жанры в строки\n",
    "movies['genres'] = movies['genres'].apply(lambda x: x.replace('|', ' '))\n",
    "\n",
    "# Создаем TF-IDF матрицу для жанров\n",
    "tfidf_genres = TfidfVectorizer()\n",
    "tfidf_genres_matrix = tfidf_genres.fit_transform(movies['genres'])"
   ]
  },
  {
   "cell_type": "code",
   "execution_count": 3,
   "metadata": {},
   "outputs": [],
   "source": [
    "# Агрегируем теги по movieId\n",
    "movie_tags = tags.groupby('movieId')['tag'].apply(lambda x: ' '.join(x)).reset_index()\n",
    "\n",
    "# Объединяем с movies\n",
    "movies = movies.merge(movie_tags, on='movieId', how='left')\n",
    "movies['tag'] = movies['tag'].fillna('')  # заменяем NaN на пустые строки\n",
    "\n",
    "# TF-IDF для тегов\n",
    "tfidf_tags = TfidfVectorizer()\n",
    "tfidf_tags_matrix = tfidf_tags.fit_transform(movies['tag'])"
   ]
  },
  {
   "cell_type": "code",
   "execution_count": 4,
   "metadata": {},
   "outputs": [],
   "source": [
    "# Статистики по пользователям\n",
    "user_stats = ratings.groupby('userId')['rating'].agg(['mean', 'median', 'var']).reset_index()\n",
    "user_stats.columns = ['userId', 'user_mean_rating', 'user_median_rating', 'user_var_rating']\n",
    "\n",
    "# Статистики по фильмам\n",
    "movie_stats = ratings.groupby('movieId')['rating'].agg(['mean', 'median', 'var']).reset_index()\n",
    "movie_stats.columns = ['movieId', 'movie_mean_rating', 'movie_median_rating', 'movie_var_rating']\n",
    "\n",
    "# Объединяем с основной таблицей ratings\n",
    "data = ratings.merge(user_stats, on='userId', how='left')\n",
    "data = data.merge(movie_stats, on='movieId', how='left')"
   ]
  },
  {
   "cell_type": "code",
   "execution_count": 5,
   "metadata": {},
   "outputs": [],
   "source": [
    "from scipy.sparse import hstack\n",
    "\n",
    "# Получаем TF-IDF фичи для всех movieId в data\n",
    "movie_indices = data['movieId'].apply(lambda x: movies.index[movies['movieId'] == x][0])\n",
    "tfidf_genres_features = tfidf_genres_matrix[movie_indices]\n",
    "tfidf_tags_features = tfidf_tags_matrix[movie_indices]\n",
    "\n",
    "# Объединяем все фичи в одну матрицу\n",
    "X = hstack([\n",
    "    tfidf_genres_features,\n",
    "    tfidf_tags_features,\n",
    "    data[['user_mean_rating', 'user_median_rating', 'user_var_rating',\n",
    "          'movie_mean_rating', 'movie_median_rating', 'movie_var_rating']].values\n",
    "])\n",
    "y = data['rating'].values"
   ]
  },
  {
   "cell_type": "code",
   "execution_count": 6,
   "metadata": {},
   "outputs": [
    {
     "name": "stderr",
     "output_type": "stream",
     "text": [
      "c:\\anaconda\\Lib\\site-packages\\joblib\\externals\\loky\\backend\\context.py:136: UserWarning: Could not find the number of physical cores for the following reason:\n",
      "[WinError 2] Не удается найти указанный файл\n",
      "Returning the number of logical cores instead. You can silence this warning by setting LOKY_MAX_CPU_COUNT to the number of cores you want to use.\n",
      "  warnings.warn(\n",
      "  File \"c:\\anaconda\\Lib\\site-packages\\joblib\\externals\\loky\\backend\\context.py\", line 257, in _count_physical_cores\n",
      "    cpu_info = subprocess.run(\n",
      "               ^^^^^^^^^^^^^^^\n",
      "  File \"c:\\anaconda\\Lib\\subprocess.py\", line 548, in run\n",
      "    with Popen(*popenargs, **kwargs) as process:\n",
      "         ^^^^^^^^^^^^^^^^^^^^^^^^^^^\n",
      "  File \"c:\\anaconda\\Lib\\subprocess.py\", line 1026, in __init__\n",
      "    self._execute_child(args, executable, preexec_fn, close_fds,\n",
      "  File \"c:\\anaconda\\Lib\\subprocess.py\", line 1538, in _execute_child\n",
      "    hp, ht, pid, tid = _winapi.CreateProcess(executable, args,\n",
      "                       ^^^^^^^^^^^^^^^^^^^^^^^^^^^^^^^^^^^^^^^\n"
     ]
    },
    {
     "name": "stdout",
     "output_type": "stream",
     "text": [
      "RMSE: 0.7925383109914156\n"
     ]
    }
   ],
   "source": [
    "from sklearn.model_selection import train_test_split\n",
    "from sklearn.ensemble import HistGradientBoostingRegressor\n",
    "\n",
    "from sklearn.metrics import root_mean_squared_error\n",
    "from scipy.sparse import issparse\n",
    "import numpy as np\n",
    "\n",
    "# Проверяем и преобразуем X в плотную матрицу, если нужно\n",
    "if issparse(X):\n",
    "    X = X.toarray()\n",
    "\n",
    "# Заменяем оставшиеся NaN (если есть)\n",
    "X = np.nan_to_num(X)\n",
    "\n",
    "# Разделяем данные\n",
    "X_train, X_test, y_train, y_test = train_test_split(X, y, test_size=0.2, random_state=42)\n",
    "\n",
    "# Обучаем модель\n",
    "model = HistGradientBoostingRegressor(random_state=42)\n",
    "model.fit(X_train, y_train)\n",
    "\n",
    "# Предсказываем и оцениваем\n",
    "y_pred = model.predict(X_test)\n",
    "rmse = root_mean_squared_error(y_test, y_pred)\n",
    "print(f'RMSE: {rmse}')"
   ]
  }
 ],
 "metadata": {
  "kernelspec": {
   "display_name": "base",
   "language": "python",
   "name": "python3"
  },
  "language_info": {
   "codemirror_mode": {
    "name": "ipython",
    "version": 3
   },
   "file_extension": ".py",
   "mimetype": "text/x-python",
   "name": "python",
   "nbconvert_exporter": "python",
   "pygments_lexer": "ipython3",
   "version": "3.12.7"
  }
 },
 "nbformat": 4,
 "nbformat_minor": 2
}
